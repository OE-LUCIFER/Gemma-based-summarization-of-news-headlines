{
  "nbformat": 4,
  "nbformat_minor": 0,
  "metadata": {
    "colab": {
      "provenance": [],
      "gpuType": "T4"
    },
    "kernelspec": {
      "name": "python3",
      "display_name": "Python 3"
    },
    "language_info": {
      "name": "python"
    },
    "accelerator": "GPU"
  },
  "cells": [
    {
      "cell_type": "code",
      "execution_count": null,
      "metadata": {
        "id": "3qpMz-ku26Mh"
      },
      "outputs": [],
      "source": [
        "!git clone https://github.com/OE-LUCIFER/Gemma-based-summarization-of-news-headlines.git"
      ]
    },
    {
      "cell_type": "code",
      "source": [
        "%cd Gemma-based-summarization-of-news-headlines"
      ],
      "metadata": {
        "id": "0pxorhAU4UwQ"
      },
      "execution_count": null,
      "outputs": []
    },
    {
      "cell_type": "code",
      "source": [
        "%cd Gemma-based news"
      ],
      "metadata": {
        "id": "rxlesfTD4rZF"
      },
      "execution_count": null,
      "outputs": []
    },
    {
      "cell_type": "code",
      "source": [
        "import torch\n",
        "\n",
        "device = \"cuda\" if torch.cuda.is_available() else \"cpu\"\n",
        "print(f'Using {device}')"
      ],
      "metadata": {
        "id": "gINMwQyz4W9A"
      },
      "execution_count": null,
      "outputs": []
    },
    {
      "cell_type": "code",
      "source": [
        "hf_token = \"hf_xxxxxxx\""
      ],
      "metadata": {
        "id": "jj_l8OKq4ZAo"
      },
      "execution_count": 5,
      "outputs": []
    },
    {
      "cell_type": "code",
      "source": [
        "from gemma_summarizer import GemmaSummarizer\n",
        "\n",
        "summarizer = GemmaSummarizer(hf_token, device=device)"
      ],
      "metadata": {
        "id": "zd9UyIoN4bsD"
      },
      "execution_count": null,
      "outputs": []
    },
    {
      "cell_type": "code",
      "source": [
        "from webs_headlines import SpaceWebScoutHeadlines"
      ],
      "metadata": {
        "id": "9erSxe6-4dNW"
      },
      "execution_count": null,
      "outputs": []
    },
    {
      "cell_type": "code",
      "source": [
        "headlines_retreiver = SpaceWebScoutHeadlines()"
      ],
      "metadata": {
        "id": "9xF9IkBe4ekt"
      },
      "execution_count": 8,
      "outputs": []
    },
    {
      "cell_type": "code",
      "source": [
        "headlines = headlines_retreiver.get_headlines(max_headlines=20)"
      ],
      "metadata": {
        "id": "BZToHEKx4iVb"
      },
      "execution_count": 22,
      "outputs": []
    },
    {
      "cell_type": "code",
      "source": [
        "summary, elapsed_time = summarizer.summarize(headlines)"
      ],
      "metadata": {
        "id": "titLYfJi4jKN"
      },
      "execution_count": 23,
      "outputs": []
    },
    {
      "cell_type": "code",
      "source": [
        "print(f\"Summary: {summary}\")"
      ],
      "metadata": {
        "id": "c5MYOdN74ljj"
      },
      "execution_count": null,
      "outputs": []
    }
  ]
}
